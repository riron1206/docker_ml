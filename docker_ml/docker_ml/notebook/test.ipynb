{
 "cells": [
  {
   "cell_type": "code",
   "execution_count": 1,
   "id": "3d7dd278-8aff-4218-8951-38a488c9cdba",
   "metadata": {},
   "outputs": [
    {
     "name": "stdout",
     "output_type": "stream",
     "text": [
      "/docker_ml/notebook\n"
     ]
    },
    {
     "data": {
      "text/plain": [
       "'/usr/local/bin/python3'"
      ]
     },
     "execution_count": 1,
     "metadata": {},
     "output_type": "execute_result"
    }
   ],
   "source": [
    "!pwd\n",
    "import sys\n",
    "sys.executable"
   ]
  },
  {
   "cell_type": "code",
   "execution_count": 2,
   "id": "8fc8aff5-098b-4938-9e15-b6f8b9e5ea94",
   "metadata": {},
   "outputs": [
    {
     "name": "stdout",
     "output_type": "stream",
     "text": [
      "/bin/sh: 1: nvidia-smi: not found\n"
     ]
    }
   ],
   "source": [
    "!nvidia-smi"
   ]
  },
  {
   "cell_type": "code",
   "execution_count": 3,
   "id": "c101e139-d79d-4d57-91ab-2ffed656f152",
   "metadata": {},
   "outputs": [
    {
     "name": "stdout",
     "output_type": "stream",
     "text": [
      "Package                           Version\n",
      "--------------------------------- --------\n",
      "ansiwrap                          0.8.4\n",
      "anyio                             3.1.0\n",
      "appdirs                           1.4.4\n",
      "argon2-cffi                       20.1.0\n",
      "async-generator                   1.10\n",
      "attrs                             21.2.0\n",
      "Babel                             2.9.1\n",
      "backcall                          0.2.0\n",
      "black                             21.5b1\n",
      "bleach                            3.3.0\n",
      "cffi                              1.14.5\n",
      "click                             8.0.1\n",
      "cycler                            0.10.0\n",
      "decorator                         5.0.9\n",
      "defusedxml                        0.7.1\n",
      "entrypoints                       0.3\n",
      "idna                              3.1\n",
      "ipykernel                         5.5.5\n",
      "ipython                           7.23.1\n",
      "ipython-genutils                  0.2.0\n",
      "ipywidgets                        7.6.3\n",
      "jedi                              0.18.0\n",
      "Jinja2                            3.0.1\n",
      "joblib                            1.0.1\n",
      "json5                             0.9.5\n",
      "jsonschema                        3.2.0\n",
      "jupyter                           1.0.0\n",
      "jupyter-client                    6.2.0\n",
      "jupyter-console                   6.4.0\n",
      "jupyter-contrib-core              0.3.3\n",
      "jupyter-contrib-nbextensions      0.5.1\n",
      "jupyter-core                      4.7.1\n",
      "jupyter-highlight-selected-word   0.2.0\n",
      "jupyter-latex-envs                1.4.6\n",
      "jupyter-nbextensions-configurator 0.4.1\n",
      "jupyter-server                    1.8.0\n",
      "jupyterlab                        3.0.16\n",
      "jupyterlab-pygments               0.1.2\n",
      "jupyterlab-server                 2.5.2\n",
      "jupyterlab-widgets                1.0.0\n",
      "kiwisolver                        1.3.1\n",
      "lxml                              4.6.3\n",
      "MarkupSafe                        2.0.1\n",
      "matplotlib                        3.4.2\n",
      "matplotlib-inline                 0.1.2\n",
      "mistune                           0.8.4\n",
      "mypy-extensions                   0.4.3\n",
      "nbclassic                         0.3.1\n",
      "nbclient                          0.5.3\n",
      "nbconvert                         6.0.7\n",
      "nbformat                          5.1.3\n",
      "nest-asyncio                      1.5.1\n",
      "notebook                          6.4.0\n",
      "numpy                             1.20.3\n",
      "packaging                         20.9\n",
      "palmerpenguins                    0.1.4\n",
      "pandas                            1.2.4\n",
      "pandocfilters                     1.4.3\n",
      "papermill                         2.3.3\n",
      "parso                             0.8.2\n",
      "pathspec                          0.8.1\n",
      "pexpect                           4.8.0\n",
      "pickleshare                       0.7.5\n",
      "Pillow                            8.2.0\n",
      "pip                               21.1.2\n",
      "prometheus-client                 0.10.1\n",
      "prompt-toolkit                    3.0.18\n",
      "ptyprocess                        0.7.0\n",
      "pycparser                         2.20\n",
      "Pygments                          2.9.0\n",
      "pyparsing                         2.4.7\n",
      "pyrsistent                        0.17.3\n",
      "python-dateutil                   2.8.1\n",
      "pytz                              2021.1\n",
      "PyYAML                            5.4.1\n",
      "pyzmq                             22.0.3\n",
      "qtconsole                         5.1.0\n",
      "QtPy                              1.9.0\n",
      "regex                             2021.4.4\n",
      "requests                          2.15.1\n",
      "scikit-learn                      0.24.2\n",
      "scipy                             1.6.1\n",
      "seaborn                           0.11.1\n",
      "Send2Trash                        1.5.0\n",
      "setuptools                        57.0.0\n",
      "six                               1.16.0\n",
      "sniffio                           1.2.0\n",
      "tenacity                          7.0.0\n",
      "terminado                         0.10.0\n",
      "testpath                          0.5.0\n",
      "textwrap3                         0.9.2\n",
      "threadpoolctl                     2.1.0\n",
      "toml                              0.10.2\n",
      "tornado                           6.1\n",
      "tqdm                              4.61.0\n",
      "traitlets                         5.0.5\n",
      "wcwidth                           0.2.5\n",
      "webencodings                      0.5.1\n",
      "websocket-client                  1.0.1\n",
      "wheel                             0.36.2\n",
      "widgetsnbextension                3.5.1\n"
     ]
    }
   ],
   "source": [
    "!pip list"
   ]
  }
 ],
 "metadata": {
  "kernelspec": {
   "display_name": "Python 3",
   "language": "python",
   "name": "python3"
  },
  "language_info": {
   "codemirror_mode": {
    "name": "ipython",
    "version": 3
   },
   "file_extension": ".py",
   "mimetype": "text/x-python",
   "name": "python",
   "nbconvert_exporter": "python",
   "pygments_lexer": "ipython3",
   "version": "3.8.10"
  }
 },
 "nbformat": 4,
 "nbformat_minor": 5
}
